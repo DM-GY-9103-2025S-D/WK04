{
  "cells": [
    {
      "cell_type": "markdown",
      "metadata": {},
      "source": [
        "### Updated March 2025\n",
        "\n",
        "https://github.com/google-gemini/cookbook/blob/main/quickstarts/Get_started.ipynb"
      ]
    },
    {
      "cell_type": "code",
      "execution_count": null,
      "metadata": {
        "id": "iW2kW_kz-9Ew"
      },
      "outputs": [],
      "source": [
        "import io\n",
        "import PIL.Image as PImage\n",
        "\n",
        "from google import genai\n",
        "from google.genai.types import GenerateContentConfig\n",
        "\n",
        "from env import GEMINI_API_KEY\n",
        "\n",
        "client = genai.Client(api_key=GEMINI_API_KEY)"
      ]
    },
    {
      "cell_type": "markdown",
      "metadata": {
        "id": "Y-hjoPcbBX8V"
      },
      "source": [
        "### Text Prompt"
      ]
    },
    {
      "cell_type": "code",
      "execution_count": null,
      "metadata": {
        "id": "P5JZ0vYN_CcI"
      },
      "outputs": [],
      "source": [
        "response = response = client.models.generate_content(\n",
        "  model=\"gemini-2.0-flash-exp\",\n",
        "  contents=\"explain Gudetama using 100 words or less\"\n",
        ")\n",
        "\n",
        "print(response.text)"
      ]
    },
    {
      "cell_type": "markdown",
      "metadata": {
        "id": "GIeyWkMqBZdp"
      },
      "source": [
        "### Image Description"
      ]
    },
    {
      "cell_type": "code",
      "execution_count": null,
      "metadata": {
        "id": "0VCoVj81BGLs"
      },
      "outputs": [],
      "source": [
        "img = PImage.open(\"./GDTM.jpg\")\n",
        "\n",
        "response = response = client.models.generate_content(\n",
        "  model=\"gemini-2.0-flash-exp\",\n",
        "  contents=[\n",
        "    img,\n",
        "    \"What's in this image?\",\n",
        "  ]\n",
        ")\n",
        "\n",
        "print(response.text)"
      ]
    },
    {
      "cell_type": "markdown",
      "metadata": {},
      "source": [
        "### Image Generation"
      ]
    },
    {
      "cell_type": "code",
      "execution_count": null,
      "metadata": {
        "id": "6_A2oTbnCkW8"
      },
      "outputs": [],
      "source": [
        "response = client.models.generate_content(\n",
        "  model=\"gemini-2.0-flash-exp\",\n",
        "  contents=\"A picture of a transparent bottle with a galaxy inside\",\n",
        "  config=GenerateContentConfig(\n",
        "    response_modalities=[\"Text\", \"Image\"],\n",
        "  )\n",
        ")\n",
        "\n",
        "for part in response.candidates[0].content.parts:\n",
        "  if part.inline_data is not None:\n",
        "    mime = part.inline_data.mime_type\n",
        "    data = part.inline_data.data\n",
        "    print(mime)\n",
        "    display(PImage.open(io.BytesIO(data)))"
      ]
    }
  ],
  "metadata": {
    "colab": {
      "provenance": []
    },
    "kernelspec": {
      "display_name": "Python 3",
      "name": "python3"
    },
    "language_info": {
      "name": "python"
    }
  },
  "nbformat": 4,
  "nbformat_minor": 0
}
